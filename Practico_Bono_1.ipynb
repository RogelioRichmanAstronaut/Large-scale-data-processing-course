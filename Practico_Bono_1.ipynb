{
  "cells": [
    {
      "cell_type": "markdown",
      "metadata": {
        "id": "dkfTfb7kKfO8"
      },
      "source": [
        "<h1>Procesamiento de Datos a Gran Escala</h1>\n",
        "\n",
        "*   Autor: Daniel Sandoval\n",
        "*   Clase: Procesamiento de datos a gran escala - Pontificia Universidad Javeriana\n",
        "*   Fecha: 11/Aug/2025\n",
        "\n",
        "## CALENTAMIENTO:"
      ]
    },
    {
      "cell_type": "markdown",
      "metadata": {
        "id": "jKNiFouRKfO8"
      },
      "source": [
        "#### MENOR DE DOS PARES: Escriba una función que devuelva el menor de dos números dados *si* ambos números son pares, pero devuelva el mayor si uno o ambos números son impares\n",
        "    lesser_of_two_evens(2,4) --> 2\n",
        "    lesser_of_two_evens(2,5) --> 5"
      ]
    },
    {
      "cell_type": "code",
      "execution_count": 193,
      "metadata": {
        "id": "HF8_a_2IKfO8"
      },
      "outputs": [],
      "source": [
        "def lesser_of_two_evens(a,b):\n",
        "    # Si ambos números son pares, devuelve el menor. Si uno o ambos son impares, devuelve el mayor.\n",
        "    if a % 2 == 0 and b % 2 == 0:\n",
        "        return min(a, b)\n",
        "    else:\n",
        "        return max(a, b)"
      ]
    },
    {
      "cell_type": "code",
      "execution_count": 194,
      "metadata": {
        "id": "fOv0K9mXKfO9",
        "outputId": "3ae837b7-2498-46ae-f60a-aac848071b02",
        "colab": {
          "base_uri": "https://localhost:8080/"
        }
      },
      "outputs": [
        {
          "output_type": "execute_result",
          "data": {
            "text/plain": [
              "2"
            ]
          },
          "metadata": {},
          "execution_count": 194
        }
      ],
      "source": [
        "# Revisión\n",
        "lesser_of_two_evens(2,4)"
      ]
    },
    {
      "cell_type": "code",
      "execution_count": 195,
      "metadata": {
        "id": "UMKYl4NgKfO-",
        "outputId": "9f133b09-ddad-46a8-95d9-cc9925c021b4",
        "colab": {
          "base_uri": "https://localhost:8080/"
        }
      },
      "outputs": [
        {
          "output_type": "execute_result",
          "data": {
            "text/plain": [
              "5"
            ]
          },
          "metadata": {},
          "execution_count": 195
        }
      ],
      "source": [
        "# Revisión\n",
        "lesser_of_two_evens(2,5)"
      ]
    },
    {
      "cell_type": "markdown",
      "metadata": {
        "id": "ZdEE37WBKfO-"
      },
      "source": [
        "#### GALLETAS DE ANIMALES: Escribir una función que toma una cadena de dos palabras y devuelve True si ambas palabras comienzan con la misma letra\n",
        "    animal_crackers('Ciudad Calor') --> True\n",
        "    animal_crackers('Lugar Frio') --> False"
      ]
    },
    {
      "cell_type": "code",
      "execution_count": 196,
      "metadata": {
        "id": "6JEJK4lcKfO_"
      },
      "outputs": [],
      "source": [
        "def animal_crackers(text):\n",
        "    # Divide la cadena en palabras\n",
        "    wordlist = text.split()\n",
        "    # Devuelve True si la primera letra de ambas palabras es la misma\n",
        "    return wordlist[0][0] == wordlist[1][0]"
      ]
    },
    {
      "cell_type": "code",
      "execution_count": 197,
      "metadata": {
        "id": "RZp5N4-6KfO_",
        "outputId": "ebd3dc85-da26-4a7d-93a8-72ec3d912fb9",
        "colab": {
          "base_uri": "https://localhost:8080/"
        }
      },
      "outputs": [
        {
          "output_type": "execute_result",
          "data": {
            "text/plain": [
              "True"
            ]
          },
          "metadata": {},
          "execution_count": 197
        }
      ],
      "source": [
        "# Revisión\n",
        "animal_crackers('Ciudad Calor')"
      ]
    },
    {
      "cell_type": "code",
      "execution_count": 198,
      "metadata": {
        "id": "zaGYt5L8KfO_",
        "outputId": "0c29f591-48d2-41af-88c3-1c983bba6503",
        "colab": {
          "base_uri": "https://localhost:8080/"
        }
      },
      "outputs": [
        {
          "output_type": "execute_result",
          "data": {
            "text/plain": [
              "False"
            ]
          },
          "metadata": {},
          "execution_count": 198
        }
      ],
      "source": [
        "# Revisión\n",
        "animal_crackers('Lugar Frio')"
      ]
    },
    {
      "cell_type": "markdown",
      "metadata": {
        "id": "Xln0rzZ3KfPA"
      },
      "source": [
        "#### HACE VEINTE: dados dos enteros, devuelve True si la suma de los enteros es 20 o si uno de los enteros es 20. De lo contrario, devuelve False\n",
        "\n",
        "    makes_twenty(20,10) --> True\n",
        "    makes_twenty(12,8) --> True\n",
        "    makes_twenty(2,3) --> False"
      ]
    },
    {
      "cell_type": "code",
      "execution_count": 199,
      "metadata": {
        "id": "wBbR7Xx_KfPA"
      },
      "outputs": [],
      "source": [
        "def makes_twenty(n1,n2):\n",
        "  # Devuelve True si la suma de los enteros es 20 o si uno de los enteros es 20.\n",
        "  return (n1+n2) == 20 or n1 == 20 or n2 == 20"
      ]
    },
    {
      "cell_type": "code",
      "execution_count": 200,
      "metadata": {
        "id": "6jHiJxnwKfPA",
        "outputId": "c78076e2-288f-417d-e15d-4b1b3a4dc827",
        "colab": {
          "base_uri": "https://localhost:8080/"
        }
      },
      "outputs": [
        {
          "output_type": "execute_result",
          "data": {
            "text/plain": [
              "True"
            ]
          },
          "metadata": {},
          "execution_count": 200
        }
      ],
      "source": [
        "# Revisión\n",
        "makes_twenty(20,10)"
      ]
    },
    {
      "cell_type": "code",
      "execution_count": 201,
      "metadata": {
        "id": "zZIdlGLeKfPA",
        "outputId": "75fb7833-4c30-4918-9982-7babe95b3a98",
        "colab": {
          "base_uri": "https://localhost:8080/"
        }
      },
      "outputs": [
        {
          "output_type": "execute_result",
          "data": {
            "text/plain": [
              "False"
            ]
          },
          "metadata": {},
          "execution_count": 201
        }
      ],
      "source": [
        "# Revisión\n",
        "makes_twenty(2,3)"
      ]
    },
    {
      "cell_type": "code",
      "execution_count": 202,
      "metadata": {
        "id": "BlJKTZX9KfPA",
        "outputId": "9f502ceb-c041-4b47-9143-a22596e9bd5e",
        "colab": {
          "base_uri": "https://localhost:8080/"
        }
      },
      "outputs": [
        {
          "output_type": "execute_result",
          "data": {
            "text/plain": [
              "True"
            ]
          },
          "metadata": {},
          "execution_count": 202
        }
      ],
      "source": [
        "makes_twenty(12,8)"
      ]
    },
    {
      "cell_type": "markdown",
      "metadata": {
        "id": "d3Fka2vRKfPB"
      },
      "source": [
        "# Nivel 1"
      ]
    },
    {
      "cell_type": "markdown",
      "metadata": {
        "id": "H_e_DMbnKfPB"
      },
      "source": [
        "#### MAYÚSCULAS: Escribir una función que haga mayúscula la primera y cuarta letra de una cadena de texto\n",
        "     \n",
        "    old_macdonald('macdonald') --> MacDonald\n",
        "    \n",
        "Note: `'macdonald'.capitalize()` returns `'Macdonald'`"
      ]
    },
    {
      "cell_type": "code",
      "execution_count": 203,
      "metadata": {
        "id": "ZiXJrY8uKfPB"
      },
      "outputs": [],
      "source": [
        "def old_macdonald(name):\n",
        "    # Capitaliza la primera y cuarta letra de la cadena\n",
        "    first_part = name[:3]\n",
        "    second_part = name[3:]\n",
        "    return first_part.capitalize() + second_part.capitalize()"
      ]
    },
    {
      "cell_type": "code",
      "execution_count": 204,
      "metadata": {
        "id": "wtu_baYIKfPB",
        "outputId": "d656b462-d555-4c98-c1a7-2420aada919b",
        "colab": {
          "base_uri": "https://localhost:8080/",
          "height": 35
        }
      },
      "outputs": [
        {
          "output_type": "execute_result",
          "data": {
            "text/plain": [
              "'MacDonald'"
            ],
            "application/vnd.google.colaboratory.intrinsic+json": {
              "type": "string"
            }
          },
          "metadata": {},
          "execution_count": 204
        }
      ],
      "source": [
        "# Check\n",
        "old_macdonald('macdonald')"
      ]
    },
    {
      "cell_type": "markdown",
      "metadata": {
        "id": "E24LlJo1KfPC"
      },
      "source": [
        "#### REVERSA: Dada una oración, retornar la misma oración pero en reversa\n",
        "\n",
        "    master_yoda('I am home') --> 'home am I'\n",
        "    master_yoda('We are ready') --> 'ready are We'\n",
        "    \n",
        "Note: Revisar método .join()\n",
        "\n",
        "    >>> \"--\".join(['a','b','c'])\n",
        "    >>> 'a--b--c'\n",
        "\n",
        "Resultado de .join():\n",
        "\n",
        "    >>> \" \".join(['Hello','world'])\n",
        "    >>> \"Hello world\""
      ]
    },
    {
      "cell_type": "code",
      "execution_count": 205,
      "metadata": {
        "id": "6K4nw15nKfPC"
      },
      "outputs": [],
      "source": [
        "def master_yoda(text):\n",
        "    # Divide la cadena en una lista de palabras\n",
        "    wordlist = text.split()\n",
        "    # Invierte la lista de palabras\n",
        "    reversed_wordlist = wordlist[::-1]\n",
        "    # Une las palabras invertidas en una cadena con espacios\n",
        "    return \" \".join(reversed_wordlist)"
      ]
    },
    {
      "cell_type": "code",
      "execution_count": 206,
      "metadata": {
        "id": "BXdDWf0BKfPC"
      },
      "outputs": [],
      "source": [
        "######"
      ]
    },
    {
      "cell_type": "code",
      "execution_count": 207,
      "metadata": {
        "id": "2DqSErszKfPD",
        "outputId": "e0ac5c69-b6c0-4744-ed52-d28a06226bdf",
        "colab": {
          "base_uri": "https://localhost:8080/",
          "height": 35
        }
      },
      "outputs": [
        {
          "output_type": "execute_result",
          "data": {
            "text/plain": [
              "'home am I'"
            ],
            "application/vnd.google.colaboratory.intrinsic+json": {
              "type": "string"
            }
          },
          "metadata": {},
          "execution_count": 207
        }
      ],
      "source": [
        "# Revisión\n",
        "master_yoda('I am home')"
      ]
    },
    {
      "cell_type": "code",
      "execution_count": 208,
      "metadata": {
        "id": "efa9vdLSKfPD",
        "outputId": "c1172e6e-577f-4378-ee44-03d3f883cd59",
        "colab": {
          "base_uri": "https://localhost:8080/",
          "height": 35
        }
      },
      "outputs": [
        {
          "output_type": "execute_result",
          "data": {
            "text/plain": [
              "'ready are We'"
            ],
            "application/vnd.google.colaboratory.intrinsic+json": {
              "type": "string"
            }
          },
          "metadata": {},
          "execution_count": 208
        }
      ],
      "source": [
        "# Revisión\n",
        "master_yoda('We are ready')"
      ]
    },
    {
      "cell_type": "markdown",
      "metadata": {
        "id": "9jquqRm7KfPE"
      },
      "source": [
        "# Nivel 2"
      ]
    },
    {
      "cell_type": "markdown",
      "metadata": {
        "id": "S5V3SVDGKfPE"
      },
      "source": [
        "#### PROBLEMA 33:\n",
        "\n",
        "Dada una lista de enteros, retornar True si el arreglo tinene un  3  seguido por un  3 .\n",
        "\n",
        "    has_33([1, 3, 3]) → True\n",
        "    has_33([1, 3, 1, 3]) → False\n",
        "    has_33([3, 1, 3]) → False"
      ]
    },
    {
      "cell_type": "code",
      "execution_count": 209,
      "metadata": {
        "id": "9eU2-UZvKfPE"
      },
      "outputs": [],
      "source": [
        "def has_33(nums):\n",
        "    # Itera a través de la lista hasta el segundo al último elemento\n",
        "    for i in range(len(nums) - 1):\n",
        "        # Comprueba si el elemento actual y el siguiente son ambos 3\n",
        "        if nums[i] == 3 and nums[i+1] == 3:\n",
        "            return True\n",
        "    # Si no se encuentra ningún 33, devuelve False\n",
        "    return False"
      ]
    },
    {
      "cell_type": "code",
      "execution_count": 210,
      "metadata": {
        "id": "Yca9X7MAKfPE",
        "outputId": "a038ea3d-0c5d-4835-cefc-ded128aafcf4",
        "colab": {
          "base_uri": "https://localhost:8080/"
        }
      },
      "outputs": [
        {
          "output_type": "execute_result",
          "data": {
            "text/plain": [
              "True"
            ]
          },
          "metadata": {},
          "execution_count": 210
        }
      ],
      "source": [
        "# Revisión\n",
        "has_33([1, 3, 3])"
      ]
    },
    {
      "cell_type": "code",
      "execution_count": 211,
      "metadata": {
        "id": "XSw1ml9dKfPE",
        "outputId": "d6b81a52-ea01-41e7-d797-5b7a0dc8bad2",
        "colab": {
          "base_uri": "https://localhost:8080/"
        }
      },
      "outputs": [
        {
          "output_type": "execute_result",
          "data": {
            "text/plain": [
              "False"
            ]
          },
          "metadata": {},
          "execution_count": 211
        }
      ],
      "source": [
        "# Revisión\n",
        "has_33([1, 3, 1, 3])"
      ]
    },
    {
      "cell_type": "code",
      "execution_count": 212,
      "metadata": {
        "id": "ZKcJgxc5KfPF",
        "outputId": "699332ca-1e6f-4ffd-97de-8370e9970d86",
        "colab": {
          "base_uri": "https://localhost:8080/"
        }
      },
      "outputs": [
        {
          "output_type": "execute_result",
          "data": {
            "text/plain": [
              "False"
            ]
          },
          "metadata": {},
          "execution_count": 212
        }
      ],
      "source": [
        "# Revisión\n",
        "has_33([3, 1, 3])"
      ]
    },
    {
      "cell_type": "markdown",
      "metadata": {
        "id": "n-Vj63BpKfPF"
      },
      "source": [
        "#### REPLICADOR: Dada una cadena, devuelve una cadena donde por cada carácter en el original hay tres caracteres REPETIDOS\n",
        "    paper_doll('Hello') --> 'HHHeeellllllooo'\n",
        "    paper_doll('Mississippi') --> 'MMMiiissssssiiippppppiii'"
      ]
    },
    {
      "cell_type": "code",
      "execution_count": 213,
      "metadata": {
        "id": "F6ivbyiXKfPF"
      },
      "outputs": [],
      "source": [
        "def paper_doll(text):\n",
        "    # Inicializa una cadena vacía para almacenar el resultado\n",
        "    result = ''\n",
        "    # Itera a través de cada carácter en la cadena de entrada\n",
        "    for char in text:\n",
        "        # Agrega cada carácter repetido tres veces a la cadena resultado\n",
        "        result += char * 3\n",
        "    # Devuelve la cadena resultado\n",
        "    return result"
      ]
    },
    {
      "cell_type": "code",
      "execution_count": 214,
      "metadata": {
        "id": "h330yUbKKfPF",
        "outputId": "5c471d87-691a-4137-ba6a-67429d46fb7b",
        "colab": {
          "base_uri": "https://localhost:8080/",
          "height": 35
        }
      },
      "outputs": [
        {
          "output_type": "execute_result",
          "data": {
            "text/plain": [
              "'HHHeeellllllooo'"
            ],
            "application/vnd.google.colaboratory.intrinsic+json": {
              "type": "string"
            }
          },
          "metadata": {},
          "execution_count": 214
        }
      ],
      "source": [
        "# Check\n",
        "paper_doll('Hello')"
      ]
    },
    {
      "cell_type": "code",
      "execution_count": 215,
      "metadata": {
        "id": "sZTw8FlZKfPF",
        "outputId": "0388fb71-74c6-4358-802b-e7b6916ff2e0",
        "colab": {
          "base_uri": "https://localhost:8080/",
          "height": 35
        }
      },
      "outputs": [
        {
          "output_type": "execute_result",
          "data": {
            "text/plain": [
              "'MMMiiissssssiiissssssiiippppppiii'"
            ],
            "application/vnd.google.colaboratory.intrinsic+json": {
              "type": "string"
            }
          },
          "metadata": {},
          "execution_count": 215
        }
      ],
      "source": [
        "# Check\n",
        "paper_doll('Mississippi')"
      ]
    },
    {
      "cell_type": "markdown",
      "metadata": {
        "id": "OJfMlQRcKfPF"
      },
      "source": [
        "#### BLACKJACK: Dados tres enteros entre 1 y 11, si su suma es menor o igual a 21, devuelve su suma. Si su suma excede 21 *y* hay un once, reduce la suma total en 10. Finalmente, si la suma (incluso después del ajuste) excede 21, devuelve 'BUST'\n",
        "    blackjack(5,6,7) --> 18\n",
        "    blackjack(9,9,9) --> 'BUST'\n",
        "    blackjack(9,9,11) --> 19"
      ]
    },
    {
      "cell_type": "code",
      "execution_count": 216,
      "metadata": {
        "id": "REJRcYJmKfPF"
      },
      "outputs": [],
      "source": [
        "def blackjack(a,b,c):\n",
        "    # Calcula la suma de los tres números\n",
        "    total = a + b + c\n",
        "\n",
        "    # Si la suma es menor o igual a 21, devuelve la suma\n",
        "    if total <= 21:\n",
        "        return total\n",
        "    # Si la suma excede 21 y hay un 11, reduce la suma en 10\n",
        "    elif total > 21 and (a == 11 or b == 11 or c == 11):\n",
        "        total -= 10\n",
        "        # Si la suma (después de ajustar el 11) aún excede 21, devuelve 'BUST'\n",
        "        if total > 21:\n",
        "            return 'BUST'\n",
        "        # Si la suma (después de ajustar el 11) es menor o igual a 21, devuelve la suma ajustada\n",
        "        else:\n",
        "            return total\n",
        "    # Si la suma excede 21 y no hay un 11, devuelve 'BUST'\n",
        "    else:\n",
        "        return 'BUST'"
      ]
    },
    {
      "cell_type": "code",
      "execution_count": 217,
      "metadata": {
        "id": "D_sHnddYKfPF",
        "outputId": "84b53f8d-e51f-4611-f04b-a53b3c399582",
        "colab": {
          "base_uri": "https://localhost:8080/"
        }
      },
      "outputs": [
        {
          "output_type": "execute_result",
          "data": {
            "text/plain": [
              "18"
            ]
          },
          "metadata": {},
          "execution_count": 217
        }
      ],
      "source": [
        "# Revisión\n",
        "blackjack(5,6,7)"
      ]
    },
    {
      "cell_type": "code",
      "execution_count": 218,
      "metadata": {
        "id": "y0713b36KfPF",
        "outputId": "85a04be4-f2c2-4f19-c5c5-d1fd81b120f5",
        "colab": {
          "base_uri": "https://localhost:8080/",
          "height": 35
        }
      },
      "outputs": [
        {
          "output_type": "execute_result",
          "data": {
            "text/plain": [
              "'BUST'"
            ],
            "application/vnd.google.colaboratory.intrinsic+json": {
              "type": "string"
            }
          },
          "metadata": {},
          "execution_count": 218
        }
      ],
      "source": [
        "# Revisión\n",
        "blackjack(9,9,9)"
      ]
    },
    {
      "cell_type": "code",
      "execution_count": 219,
      "metadata": {
        "id": "6eijyrH-KfPG",
        "outputId": "59f48856-d13b-48dd-8a0d-755bbf3d9dd9",
        "colab": {
          "base_uri": "https://localhost:8080/"
        }
      },
      "outputs": [
        {
          "output_type": "execute_result",
          "data": {
            "text/plain": [
              "19"
            ]
          },
          "metadata": {},
          "execution_count": 219
        }
      ],
      "source": [
        "# Revisión\n",
        "blackjack(9,9,11)"
      ]
    },
    {
      "cell_type": "markdown",
      "metadata": {
        "id": "6S22_l6xKfPI"
      },
      "source": [
        "## Suerte!"
      ]
    }
  ],
  "metadata": {
    "kernelspec": {
      "display_name": "Python 3 (ipykernel)",
      "language": "python",
      "name": "python3"
    },
    "language_info": {
      "codemirror_mode": {
        "name": "ipython",
        "version": 3
      },
      "file_extension": ".py",
      "mimetype": "text/x-python",
      "name": "python",
      "nbconvert_exporter": "python",
      "pygments_lexer": "ipython3",
      "version": "3.10.4"
    },
    "colab": {
      "provenance": []
    }
  },
  "nbformat": 4,
  "nbformat_minor": 0
}